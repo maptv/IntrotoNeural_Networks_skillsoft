{
 "cells": [
  {
   "cell_type": "markdown",
   "id": "730c3071",
   "metadata": {},
   "source": [
    "## NEURALNETWORKSANDDEEPLEARNING/TUNINGNEURALNETWORKS/NEURALNETWORKSANDDEEPLEARNING TUNINGNEURALNETWORKS 2 EXERCISE  ##\n",
    "#### Please refer to module 1 of NeuralNetworksAndDeepLearning -TuningNeuralNetworks  for Tasks 1-9\n",
    "#### Task 1 \n",
    "##### Load the libraries that are used in this module.\n",
    "#### Result:\n"
   ]
  },
  {
   "cell_type": "code",
   "execution_count": null,
   "id": "9a38b4bd",
   "metadata": {},
   "outputs": [],
   "source": []
  },
  {
   "cell_type": "markdown",
   "id": "efe32598",
   "metadata": {},
   "source": [
    "#### Task 2\n",
    "##### Set the working directory to the data directory.\n",
    "##### Print the working directory.\n",
    "#### Result:\n"
   ]
  },
  {
   "cell_type": "code",
   "execution_count": null,
   "id": "8712928a",
   "metadata": {},
   "outputs": [],
   "source": []
  },
  {
   "cell_type": "markdown",
   "id": "70ee472a",
   "metadata": {},
   "source": [
    "#### Task 3\n",
    "##### Load the dataset `bank_marketing.csv` and save it to `bank_marketing`.\n",
    "##### Print the first few rows of `bank_marketing`.\n",
    "#### Result:\n"
   ]
  },
  {
   "cell_type": "code",
   "execution_count": null,
   "id": "d3d2f54b",
   "metadata": {},
   "outputs": [],
   "source": []
  },
  {
   "cell_type": "markdown",
   "id": "a7a68647",
   "metadata": {},
   "source": [
    "#### Task 4\n",
    "##### Define a convenience function `ex_data_prep` to perform the data cleaning steps mentioned below.\n"
   ]
  },
  {
   "cell_type": "code",
   "execution_count": null,
   "id": "ec0d5762",
   "metadata": {},
   "outputs": [],
   "source": [
    "1. Replace the column `y` in the dataframe, by setting it to 1 if `y` is 'yes', otherwise set `y` to 0.\n",
    "2. Replace the missing values in variable `pdays` with the mean value of the column\n",
    "3. Perform one hot encoding on the variables with data type object (i.e `job`, `marital`, `education`, `default`, `housing`, `loan`, `contact`, `month`, `day_of_week` and `poutcome`) except the target variable `y`\n",
    "4. Drop the original variables and concatenate the dummies to original datset\n",
    "5. Select the predictors by dropping variable `y` and save the result to a dataframe `X_ex`\n",
    "6. Save the target variable `y` column to `y_ex` variable\n",
    "7. Set the seed to 1\n",
    "8. Split the data into training, test, and validation sets with 70:15:15 ratio and save respective variables to `X_train_ex`, `X_test_ex`, `X_val_ex`, `y_train_ex`, `y_test_ex`, `y_val_ex`\n",
    "9. Scale the train, test and the validation datasets using Min max scaler and save as `X_train_scaled_ex`, `X_test_scaled_ex` and `X_val_scaled_ex` respectiely\n"
   ]
  },
  {
   "cell_type": "markdown",
   "id": "7a833891",
   "metadata": {},
   "source": [
    "#### Result:\n"
   ]
  },
  {
   "cell_type": "code",
   "execution_count": null,
   "id": "2e6a660e",
   "metadata": {},
   "outputs": [],
   "source": []
  },
  {
   "cell_type": "markdown",
   "id": "7134dc39",
   "metadata": {},
   "source": [
    "#### Task 5\n",
    "##### Define a list `METRICS` with the performance metrics - true positives, false positives, true negatives, false negatives, accuracy, precision, recall and auc.\n",
    "#### Result:\n"
   ]
  },
  {
   "cell_type": "code",
   "execution_count": null,
   "id": "ea7f9b77",
   "metadata": {},
   "outputs": [],
   "source": []
  },
  {
   "cell_type": "markdown",
   "id": "d034577c",
   "metadata": {},
   "source": [
    "#### Task 6\n",
    "##### Define the function to create a simple sequential neural network model with 32 neurons for the 1st hidden layer, 32 neurons for the second layer, and appropriate input and output layers, default learning rate as 0.75 and name the model `ex_create_model`\n",
    "##### Compile the model using \"adam\" optimizer, \"binary_crossentropy\" loss, and using `METRICS `list as metrics\n",
    "#### Result:\n"
   ]
  },
  {
   "cell_type": "code",
   "execution_count": null,
   "id": "f26b9bdf",
   "metadata": {},
   "outputs": [],
   "source": []
  },
  {
   "cell_type": "markdown",
   "id": "9ede87fd",
   "metadata": {},
   "source": [
    "#### Task 7\n",
    "##### Create a new Exercise project in your Neptune account\n",
    "##### Initialize Neptune client using the init function\n",
    "#### Result:\n"
   ]
  },
  {
   "cell_type": "code",
   "execution_count": null,
   "id": "876ef9b0",
   "metadata": {},
   "outputs": [],
   "source": []
  },
  {
   "cell_type": "markdown",
   "id": "00d36376",
   "metadata": {},
   "source": [
    "#### Task 8\n",
    "##### Create a Neptune callback and save it as `neptune_callback`; add it to `callbacks` list.\n",
    "##### Using `ex_create_model` function defined above, instantiate a keras model, and save it as `model`.\n",
    "##### Fit the model using the same parameters as above, but also adding the `callbacks` argument to it.\n",
    "##### Go to Neptune website to check the result\n",
    "#### Result:\n"
   ]
  },
  {
   "cell_type": "code",
   "execution_count": null,
   "id": "02574a1b",
   "metadata": {},
   "outputs": [],
   "source": []
  },
  {
   "cell_type": "markdown",
   "id": "173970d7",
   "metadata": {},
   "source": [
    "#### Task 9\n",
    "##### Predict and evaluate the model on test data. Save the result in the variable `result`.\n",
    "##### Print the result.\n",
    "#### Result:\n"
   ]
  },
  {
   "cell_type": "code",
   "execution_count": null,
   "id": "00656b4c",
   "metadata": {},
   "outputs": [],
   "source": []
  },
  {
   "cell_type": "markdown",
   "id": "8111f7f8",
   "metadata": {},
   "source": [
    "#### Please refer to module 2 of NeuralNetworksAndDeepLearning-TuningNeuralNetworks for Tasks 10-14\n",
    "#### Task 10\n",
    "##### Define the function `ex_tune_model` to tune the optimal\n"
   ]
  },
  {
   "cell_type": "code",
   "execution_count": null,
   "id": "fac2d596",
   "metadata": {},
   "outputs": [],
   "source": [
    "1. activation function among `softmax, softplus, softsign, relu, tanh, sigmoid, hard_sigmoid, linear`\n",
    "2. number of neurons with the min_value as 8, max_value as 128 and step size as 16 in all hidden layers.\n",
    "3. Add a dropout layer with the min_value set to 0.0, max_value as 0.5, default value as 0.25 and step size of 0.05.\n",
    "4. Optimizer among `adam, sgd, rmsprop`.\n",
    "5. Learning rate among 1e-2, 1e-3, 1e-4.\n"
   ]
  },
  {
   "cell_type": "markdown",
   "id": "734fd3f2",
   "metadata": {},
   "source": [
    "##### Compile the model and set the metric to `accuracy`.\n",
    "#### Result:\n"
   ]
  },
  {
   "cell_type": "code",
   "execution_count": null,
   "id": "8fa17bcd",
   "metadata": {},
   "outputs": [],
   "source": []
  },
  {
   "cell_type": "markdown",
   "id": "0a9fa3de",
   "metadata": {},
   "source": [
    "#### Task 11\n",
    "##### Set the MAX_TRIALS to 10 and EXECUTIONS_PER_TRIAL to 5.\n",
    "##### Define the Random search tuner.\n",
    "##### Set the directory and project_name to `ex_final_tuned_model`.\n",
    "##### Look up the search space and tune the model using the search function.\n",
    "#### Result:\n"
   ]
  },
  {
   "cell_type": "code",
   "execution_count": null,
   "id": "7275b161",
   "metadata": {},
   "outputs": [],
   "source": []
  },
  {
   "cell_type": "markdown",
   "id": "56acfba7",
   "metadata": {},
   "source": [
    "#### Task 12\n",
    "##### View the optimal parameters using get_best_trials.\n",
    "#### Result:\n"
   ]
  },
  {
   "cell_type": "code",
   "execution_count": null,
   "id": "c7f0785e",
   "metadata": {},
   "outputs": [],
   "source": []
  },
  {
   "cell_type": "markdown",
   "id": "65a0642a",
   "metadata": {},
   "source": [
    "#### Task 13\n",
    "##### Define the function `ex_create_optimized_model` and set the parameters to optimal values obtained earlier.\n",
    "#### Result:\n"
   ]
  },
  {
   "cell_type": "code",
   "execution_count": null,
   "id": "52ebb0e1",
   "metadata": {},
   "outputs": [],
   "source": []
  },
  {
   "cell_type": "markdown",
   "id": "e72114f6",
   "metadata": {},
   "source": [
    "#### Task 14\n",
    "##### Fit the model using the same parameters as above, and also add the `callbacks` argument to it.\n",
    "##### Open Neptune and view the results.\n",
    "#### Result:\n"
   ]
  },
  {
   "cell_type": "code",
   "execution_count": null,
   "id": "d5ff4a70",
   "metadata": {},
   "outputs": [],
   "source": []
  },
  {
   "cell_type": "markdown",
   "id": "2c6e83ed",
   "metadata": {},
   "source": [
    "#### Task 15\n",
    "##### Evaluate the optimized model on test data using `tb_model.evaluate`  and compare the results with the base model.\n",
    "#### Result:\n"
   ]
  },
  {
   "cell_type": "code",
   "execution_count": null,
   "id": "3654c8dd",
   "metadata": {},
   "outputs": [],
   "source": []
  }
 ],
 "metadata": {
  "language": "python"
 },
 "nbformat": 4,
 "nbformat_minor": 5
}
