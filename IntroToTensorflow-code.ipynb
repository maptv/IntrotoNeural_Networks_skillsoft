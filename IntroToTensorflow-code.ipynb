{
 "cells": [
  {
   "cell_type": "code",
   "execution_count": 4,
   "id": "ad1f4304",
   "metadata": {},
   "outputs": [],
   "source": [
    "#######################################################\n",
    "#######################################################\n",
    "############    COPYRIGHT - DATA SOCIETY   ############\n",
    "#######################################################\n",
    "#######################################################\n",
    "\n",
    "## INTROTONEURALNETWORKS/INTROTOTENSORFLOW/INTROTONEURALNETWORKS INTROTOTENSORFLOW 1 ##\n",
    "\n",
    "## NOTE: To run individual pieces of code, select the line of code and\n",
    "##       press ctrl + enter for PCs or command + enter for Macs\n",
    "\n",
    "\n",
    "import numpy as np"
   ]
  },
  {
   "cell_type": "code",
   "execution_count": 20,
   "id": "9e7705ac-4cd4-40ea-babe-bee9b4f9c3eb",
   "metadata": {},
   "outputs": [],
   "source": [
    "scalar = 6"
   ]
  },
  {
   "cell_type": "code",
   "execution_count": 22,
   "id": "6dd974fb-667c-4f38-8dff-6a7bee9a9211",
   "metadata": {},
   "outputs": [
    {
     "data": {
      "text/plain": [
       "6"
      ]
     },
     "execution_count": 22,
     "metadata": {},
     "output_type": "execute_result"
    }
   ],
   "source": [
    "scalar"
   ]
  },
  {
   "cell_type": "code",
   "execution_count": 23,
   "id": "c1d9eac4-ee46-41b7-9b52-a78191e086b9",
   "metadata": {},
   "outputs": [
    {
     "data": {
      "text/plain": [
       "[6, 6]"
      ]
     },
     "execution_count": 23,
     "metadata": {},
     "output_type": "execute_result"
    }
   ],
   "source": [
    "vector = [scalar, scalar]\n",
    "vector"
   ]
  },
  {
   "cell_type": "code",
   "execution_count": 5,
   "id": "a13b9df6-1655-4524-bacd-8c408d0dc437",
   "metadata": {},
   "outputs": [],
   "source": [
    "lol = [[list(range(2)), list(range(2)), list(range(2))], [list(range(2)), list(range(2)), list(range(2))]]"
   ]
  },
  {
   "cell_type": "code",
   "execution_count": 25,
   "id": "e0450bc1-e7ae-4393-bd35-079db373768a",
   "metadata": {},
   "outputs": [
    {
     "data": {
      "text/plain": [
       "[[0, 1], [0, 1], [0, 1]]"
      ]
     },
     "execution_count": 25,
     "metadata": {},
     "output_type": "execute_result"
    }
   ],
   "source": [
    "lol[0]"
   ]
  },
  {
   "cell_type": "code",
   "execution_count": 24,
   "id": "bbddf131-7949-404f-874a-7eb9fde885f9",
   "metadata": {},
   "outputs": [
    {
     "data": {
      "text/plain": [
       "[[[0, 1], [0, 1], [0, 1]], [[0, 1], [0, 1], [0, 1]]]"
      ]
     },
     "execution_count": 24,
     "metadata": {},
     "output_type": "execute_result"
    }
   ],
   "source": [
    "lol"
   ]
  },
  {
   "cell_type": "code",
   "execution_count": 6,
   "id": "dfdc91c9-8f44-4ebd-ba5f-4ad91118f47f",
   "metadata": {},
   "outputs": [],
   "source": [
    "tensor = np.array(lol)"
   ]
  },
  {
   "cell_type": "code",
   "execution_count": 9,
   "id": "f06d888c-e4e5-4fad-95fc-00ceac975dcc",
   "metadata": {},
   "outputs": [],
   "source": [
    "tensor2 = np.array([tensor, tensor])"
   ]
  },
  {
   "cell_type": "code",
   "execution_count": 14,
   "id": "58f2731e-6615-4ca1-ad24-76ebdc2857d5",
   "metadata": {},
   "outputs": [
    {
     "data": {
      "text/plain": [
       "(2, 3, 2)"
      ]
     },
     "execution_count": 14,
     "metadata": {},
     "output_type": "execute_result"
    }
   ],
   "source": [
    "tensor.shape"
   ]
  },
  {
   "cell_type": "code",
   "execution_count": 15,
   "id": "08077f6b-9919-43c1-94d3-e4b2c63afbd6",
   "metadata": {},
   "outputs": [
    {
     "data": {
      "text/plain": [
       "(2, 2, 3, 2)"
      ]
     },
     "execution_count": 15,
     "metadata": {},
     "output_type": "execute_result"
    }
   ],
   "source": [
    "tensor2.shape"
   ]
  },
  {
   "cell_type": "code",
   "execution_count": 8,
   "id": "316c5b18-0ac3-46d8-bff0-9b7dfccb377f",
   "metadata": {},
   "outputs": [
    {
     "data": {
      "text/plain": [
       "3"
      ]
     },
     "execution_count": 8,
     "metadata": {},
     "output_type": "execute_result"
    }
   ],
   "source": [
    "len(tensor.shape)"
   ]
  },
  {
   "cell_type": "code",
   "execution_count": 11,
   "id": "2478e1ea-0236-465f-8a61-04be22cac82e",
   "metadata": {},
   "outputs": [
    {
     "data": {
      "text/plain": [
       "4"
      ]
     },
     "execution_count": 11,
     "metadata": {},
     "output_type": "execute_result"
    }
   ],
   "source": [
    "len(tensor2.shape)"
   ]
  },
  {
   "cell_type": "code",
   "execution_count": 18,
   "id": "f64815b2-8bf0-4529-acd4-acf3249b52b0",
   "metadata": {},
   "outputs": [
    {
     "data": {
      "text/plain": [
       "12"
      ]
     },
     "execution_count": 18,
     "metadata": {},
     "output_type": "execute_result"
    }
   ],
   "source": [
    "np.prod(tensor.shape)"
   ]
  },
  {
   "cell_type": "code",
   "execution_count": 19,
   "id": "985246b5-2da0-47cf-b3fc-a2ac5e1e4120",
   "metadata": {},
   "outputs": [
    {
     "data": {
      "text/plain": [
       "24"
      ]
     },
     "execution_count": 19,
     "metadata": {},
     "output_type": "execute_result"
    }
   ],
   "source": [
    "np.prod(tensor2.shape)"
   ]
  },
  {
   "cell_type": "code",
   "execution_count": 13,
   "id": "59133fe9-5ee7-4eed-bb75-5dd2603813d3",
   "metadata": {},
   "outputs": [
    {
     "data": {
      "text/plain": [
       "array([[[0, 1],\n",
       "        [0, 1],\n",
       "        [0, 1]],\n",
       "\n",
       "       [[0, 1],\n",
       "        [0, 1],\n",
       "        [0, 1]]])"
      ]
     },
     "execution_count": 13,
     "metadata": {},
     "output_type": "execute_result"
    }
   ],
   "source": [
    "tensor"
   ]
  },
  {
   "cell_type": "code",
   "execution_count": 12,
   "id": "b16d2f21-8aec-4534-baaf-152b7bc2f93f",
   "metadata": {},
   "outputs": [
    {
     "data": {
      "text/plain": [
       "array([[[[0, 1],\n",
       "         [0, 1],\n",
       "         [0, 1]],\n",
       "\n",
       "        [[0, 1],\n",
       "         [0, 1],\n",
       "         [0, 1]]],\n",
       "\n",
       "\n",
       "       [[[0, 1],\n",
       "         [0, 1],\n",
       "         [0, 1]],\n",
       "\n",
       "        [[0, 1],\n",
       "         [0, 1],\n",
       "         [0, 1]]]])"
      ]
     },
     "execution_count": 12,
     "metadata": {},
     "output_type": "execute_result"
    }
   ],
   "source": [
    "tensor2"
   ]
  },
  {
   "cell_type": "code",
   "execution_count": 1,
   "id": "ce17f8a2",
   "metadata": {},
   "outputs": [],
   "source": [
    "#=================================================-\n",
    "#### Slide 11: Load TensorFlow for Python  ####\n",
    "\n",
    "# Import tensorflow.\n",
    "import tensorflow as tf\n",
    "\n",
    "\n",
    "#######################################################\n",
    "####  CONGRATULATIONS ON COMPLETING THIS MODULE!   ####\n",
    "#######################################################\n"
   ]
  },
  {
   "cell_type": "code",
   "execution_count": null,
   "id": "506b0abf",
   "metadata": {},
   "outputs": [],
   "source": [
    "#######################################################\n",
    "#######################################################\n",
    "############    COPYRIGHT - DATA SOCIETY   ############\n",
    "#######################################################\n",
    "#######################################################\n",
    "\n",
    "## INTROTONEURALNETWORKS/INTROTOTENSORFLOW/INTROTONEURALNETWORKS INTROTOTENSORFLOW 2 ##\n",
    "\n",
    "## NOTE: To run individual pieces of code, select the line of code and\n",
    "##       press ctrl + enter for PCs or command + enter for Macs\n",
    "\n",
    "\n"
   ]
  },
  {
   "cell_type": "code",
   "execution_count": 2,
   "id": "883c0c32",
   "metadata": {},
   "outputs": [],
   "source": [
    "#=================================================-\n",
    "#### Slide 5: Loading packages  ####\n",
    "\n",
    "import os\n",
    "import pickle\n",
    "import pandas as pd\n",
    "import matplotlib.pyplot as plt                     \n",
    "import numpy as np\n",
    "import math\n",
    "import seaborn as sns\n",
    "# Scikit-learn packages.\n",
    "from sklearn import preprocessing\n",
    "from sklearn.model_selection import train_test_split\n",
    "from sklearn import metrics\n",
    "# TensorFlow and supporting packages.\n",
    "import tensorflow as tf\n",
    "from tensorflow import keras\n",
    "from tensorflow.keras import layers\n",
    "from tensorflow.keras.wrappers.scikit_learn import KerasClassifier\n",
    "from tensorflow.keras.models import load_model\n",
    "from tensorflow.keras.optimizers import Adam\n",
    "\n",
    "\n"
   ]
  },
  {
   "cell_type": "code",
   "execution_count": 5,
   "id": "2741ab55",
   "metadata": {},
   "outputs": [
    {
     "name": "stdout",
     "output_type": "stream",
     "text": [
      "/Users/matskarz/Skillsoft-Content/IntrotoNeural_Networks\n",
      "/Users/matskarz/Skillsoft-Content/IntrotoNeural_Networks/data\n"
     ]
    }
   ],
   "source": [
    "#=================================================-\n",
    "#### Slide 6: Directory settings  ####\n",
    "\n",
    "# Set 'main_dir' to location of the project folder\n",
    "from pathlib import Path \n",
    "home_dir = Path(\".\").resolve()\n",
    "main_dir = home_dir.parent\n",
    "print(main_dir)\n",
    "data_dir = str(main_dir) + \"/data\"\n",
    "print(data_dir)\n",
    "\n",
    "\n"
   ]
  },
  {
   "cell_type": "code",
   "execution_count": 6,
   "id": "bcf86944",
   "metadata": {},
   "outputs": [
    {
     "name": "stdout",
     "output_type": "stream",
     "text": [
      "   ID  LIMIT_BAL  SEX  EDUCATION  MARRIAGE  AGE  PAY_0  PAY_2  PAY_3  PAY_4  \\\n",
      "0   1      20000    2          2         1   24      2      2     -1     -1   \n",
      "1   2     120000    2          2         2   26     -1      2      0      0   \n",
      "2   3      90000    2          2         2   34      0      0      0      0   \n",
      "3   4      50000    2          2         1   37      0      0      0      0   \n",
      "4   5      50000    1          2         1   57     -1      0     -1      0   \n",
      "\n",
      "   ...  BILL_AMT4  BILL_AMT5  BILL_AMT6  PAY_AMT1  PAY_AMT2  PAY_AMT3  \\\n",
      "0  ...          0          0          0         0       689         0   \n",
      "1  ...       3272       3455       3261         0      1000      1000   \n",
      "2  ...      14331      14948      15549      1518      1500      1000   \n",
      "3  ...      28314      28959      29547      2000      2019      1200   \n",
      "4  ...      20940      19146      19131      2000     36681     10000   \n",
      "\n",
      "   PAY_AMT4  PAY_AMT5  PAY_AMT6  default_payment_next_month  \n",
      "0         0         0         0                           1  \n",
      "1      1000         0      2000                           1  \n",
      "2      1000      1000      5000                           0  \n",
      "3      1100      1069      1000                           0  \n",
      "4      9000       689       679                           0  \n",
      "\n",
      "[5 rows x 25 columns]\n"
     ]
    }
   ],
   "source": [
    "#=================================================-\n",
    "#### Slide 7: Load the data  ####\n",
    "\n",
    "credit_card = pd.read_csv(str(data_dir) + '/credit_card_data.csv')\n",
    "print(credit_card.head())\n",
    "\n",
    "\n"
   ]
  },
  {
   "cell_type": "code",
   "execution_count": 26,
   "id": "b68d83f9",
   "metadata": {},
   "outputs": [],
   "source": [
    "#=================================================-\n",
    "#### Slide 11: Data prep: convenience function (cont'd)  ####\n",
    "\n",
    "def data_prep(df):\n",
    "    \n",
    "    # Fill missing values with mean \n",
    "    df = df.fillna(df.mean()['BILL_AMT1'])\n",
    "\n",
    "    # Drop an unnecessary identifier column.\n",
    "    df = df.drop('ID',axis = 1)\n",
    "\n",
    "    # Convert 'sex' into dummy variables.\n",
    "    df = pd.get_dummies(df)\n",
    "    \n",
    "    # Separate predictors from data.\n",
    "    X = df.drop(['default_payment_next_month'], axis=1)\n",
    "\n",
    "    # Separate target from data.\n",
    "    y = df['default_payment_next_month']\n",
    "\n",
    "    # Set the seed to 1.\n",
    "    np.random.seed(1)\n",
    "    \n",
    "    # Split data into train, test, and validation set, use a 70 - 15 - 15 split.\n",
    "    # First split data into train-test with 70% for train and 30% for test.\n",
    "    X_train, X_test, y_train, y_test = train_test_split(X, y, test_size=.3, random_state=1)\n",
    "    \n",
    "    print(\"Train shape:\", X_train.shape, \"Test shape:\", X_test.shape)\n",
    "    \n",
    "    # Transforms features by scaling each feature to a given range.\n",
    "    # The default is the range between 0 and 1.\n",
    "    min_max_scaler = preprocessing.MinMaxScaler()\n",
    "    X_train_scaled = min_max_scaler.fit_transform(X_train)\n",
    "    X_test_scaled = min_max_scaler.transform(X_test)\n",
    "    \n",
    "    return X_train_scaled, X_test_scaled, y_train, y_test"
   ]
  },
  {
   "cell_type": "code",
   "execution_count": 27,
   "id": "994241c8",
   "metadata": {},
   "outputs": [
    {
     "name": "stdout",
     "output_type": "stream",
     "text": [
      "Train shape: (21000, 23) Test shape: (9000, 23)\n"
     ]
    }
   ],
   "source": [
    "#=================================================-\n",
    "#### Slide 12: Data prep  ####\n",
    "\n",
    "X_train_scaled, X_test_scaled, y_train, y_test = data_prep(credit_card)\n",
    "\n",
    "\n"
   ]
  },
  {
   "cell_type": "code",
   "execution_count": 28,
   "id": "d4b93dba",
   "metadata": {},
   "outputs": [],
   "source": [
    "#=================================================-\n",
    "#### Slide 16: Implement Sequential model with Dense layers  ####\n",
    "\n",
    "from tensorflow.keras import Sequential\n",
    "from tensorflow.keras.layers import Dense\n",
    "\n",
    "# Let's set the seed so that we can reproduce the results.\n",
    "tf.random.set_seed(1)\n",
    "\n",
    "## Set up model.\n",
    "model = Sequential([\n",
    "  Dense(32, input_shape=(X_train_scaled.shape[1], )),\n",
    "  Dense(20, activation='relu'),\n",
    "  Dense(1, activation='sigmoid')\n",
    "])"
   ]
  },
  {
   "cell_type": "code",
   "execution_count": 29,
   "id": "14756dc6",
   "metadata": {},
   "outputs": [],
   "source": [
    "#=================================================-\n",
    "#### Slide 17: Compile the model  ####\n",
    "\n",
    "# Compile the model.\n",
    "model.compile(\n",
    "    optimizer=\"adam\",\n",
    "    loss=\"binary_crossentropy\",\n",
    "    metrics=[\"accuracy\"],\n",
    ")\n",
    "\n",
    "\n"
   ]
  },
  {
   "cell_type": "code",
   "execution_count": 30,
   "id": "4962e0f8",
   "metadata": {
    "tags": []
   },
   "outputs": [
    {
     "name": "stdout",
     "output_type": "stream",
     "text": [
      "Epoch 1/30\n",
      "525/525 [==============================] - 1s 1ms/step - loss: 0.4917 - accuracy: 0.7896 - val_loss: 0.4574 - val_accuracy: 0.8162\n",
      "Epoch 2/30\n",
      "525/525 [==============================] - 1s 957us/step - loss: 0.4656 - accuracy: 0.8060 - val_loss: 0.4474 - val_accuracy: 0.8248\n",
      "Epoch 3/30\n",
      "525/525 [==============================] - 1s 1ms/step - loss: 0.4596 - accuracy: 0.8104 - val_loss: 0.4410 - val_accuracy: 0.8274\n",
      "Epoch 4/30\n",
      "525/525 [==============================] - 1s 962us/step - loss: 0.4560 - accuracy: 0.8111 - val_loss: 0.4373 - val_accuracy: 0.8274\n",
      "Epoch 5/30\n",
      "525/525 [==============================] - 1s 982us/step - loss: 0.4528 - accuracy: 0.8149 - val_loss: 0.4380 - val_accuracy: 0.8290\n",
      "Epoch 6/30\n",
      "525/525 [==============================] - 1s 1ms/step - loss: 0.4506 - accuracy: 0.8156 - val_loss: 0.4435 - val_accuracy: 0.8114\n",
      "Epoch 7/30\n",
      "525/525 [==============================] - 1s 976us/step - loss: 0.4490 - accuracy: 0.8145 - val_loss: 0.4322 - val_accuracy: 0.8293\n",
      "Epoch 8/30\n",
      "525/525 [==============================] - 1s 977us/step - loss: 0.4471 - accuracy: 0.8158 - val_loss: 0.4313 - val_accuracy: 0.8321\n",
      "Epoch 9/30\n",
      "525/525 [==============================] - 1s 972us/step - loss: 0.4457 - accuracy: 0.8158 - val_loss: 0.4293 - val_accuracy: 0.8319\n",
      "Epoch 10/30\n",
      "525/525 [==============================] - 1s 1ms/step - loss: 0.4437 - accuracy: 0.8173 - val_loss: 0.4286 - val_accuracy: 0.8324\n",
      "Epoch 11/30\n",
      "525/525 [==============================] - 1s 967us/step - loss: 0.4430 - accuracy: 0.8166 - val_loss: 0.4324 - val_accuracy: 0.8269\n",
      "Epoch 12/30\n",
      "525/525 [==============================] - 1s 1ms/step - loss: 0.4424 - accuracy: 0.8159 - val_loss: 0.4277 - val_accuracy: 0.8321\n",
      "Epoch 13/30\n",
      "525/525 [==============================] - 1s 989us/step - loss: 0.4412 - accuracy: 0.8176 - val_loss: 0.4266 - val_accuracy: 0.8300\n",
      "Epoch 14/30\n",
      "525/525 [==============================] - 1s 973us/step - loss: 0.4396 - accuracy: 0.8171 - val_loss: 0.4251 - val_accuracy: 0.8331\n",
      "Epoch 15/30\n",
      "525/525 [==============================] - 1s 986us/step - loss: 0.4390 - accuracy: 0.8184 - val_loss: 0.4264 - val_accuracy: 0.8319\n",
      "Epoch 16/30\n",
      "525/525 [==============================] - 1s 1ms/step - loss: 0.4384 - accuracy: 0.8179 - val_loss: 0.4284 - val_accuracy: 0.8305\n",
      "Epoch 17/30\n",
      "525/525 [==============================] - 1s 965us/step - loss: 0.4383 - accuracy: 0.8171 - val_loss: 0.4361 - val_accuracy: 0.8243\n",
      "Epoch 18/30\n",
      "525/525 [==============================] - 1s 975us/step - loss: 0.4375 - accuracy: 0.8180 - val_loss: 0.4229 - val_accuracy: 0.8331\n",
      "Epoch 19/30\n",
      "525/525 [==============================] - 1s 1ms/step - loss: 0.4370 - accuracy: 0.8192 - val_loss: 0.4239 - val_accuracy: 0.8321\n",
      "Epoch 20/30\n",
      "525/525 [==============================] - 1s 1ms/step - loss: 0.4363 - accuracy: 0.8186 - val_loss: 0.4236 - val_accuracy: 0.8329\n",
      "Epoch 21/30\n",
      "525/525 [==============================] - 1s 1ms/step - loss: 0.4362 - accuracy: 0.8182 - val_loss: 0.4231 - val_accuracy: 0.8338\n",
      "Epoch 22/30\n",
      "525/525 [==============================] - 1s 1ms/step - loss: 0.4353 - accuracy: 0.8192 - val_loss: 0.4229 - val_accuracy: 0.8331\n",
      "Epoch 23/30\n",
      "525/525 [==============================] - 1s 1ms/step - loss: 0.4351 - accuracy: 0.8182 - val_loss: 0.4292 - val_accuracy: 0.8281\n",
      "Epoch 24/30\n",
      "525/525 [==============================] - 1s 1ms/step - loss: 0.4353 - accuracy: 0.8193 - val_loss: 0.4243 - val_accuracy: 0.8314\n",
      "Epoch 25/30\n",
      "525/525 [==============================] - 1s 976us/step - loss: 0.4343 - accuracy: 0.8192 - val_loss: 0.4345 - val_accuracy: 0.8307\n",
      "Epoch 26/30\n",
      "525/525 [==============================] - 1s 1ms/step - loss: 0.4348 - accuracy: 0.8191 - val_loss: 0.4257 - val_accuracy: 0.8336\n",
      "Epoch 27/30\n",
      "525/525 [==============================] - 1s 966us/step - loss: 0.4343 - accuracy: 0.8198 - val_loss: 0.4296 - val_accuracy: 0.8267\n",
      "Epoch 28/30\n",
      "525/525 [==============================] - 1s 979us/step - loss: 0.4340 - accuracy: 0.8194 - val_loss: 0.4259 - val_accuracy: 0.8326\n",
      "Epoch 29/30\n",
      "525/525 [==============================] - 1s 973us/step - loss: 0.4331 - accuracy: 0.8202 - val_loss: 0.4234 - val_accuracy: 0.8336\n",
      "Epoch 30/30\n",
      "525/525 [==============================] - 1s 1ms/step - loss: 0.4338 - accuracy: 0.8197 - val_loss: 0.4223 - val_accuracy: 0.8340\n"
     ]
    }
   ],
   "source": [
    "#=================================================-\n",
    "#### Slide 18: Fit the model  ####\n",
    "\n",
    "model_res = model.fit(\n",
    "    X_train_scaled,\n",
    "    y_train,\n",
    "    validation_split=.2,\n",
    "    epochs=30,\n",
    ")"
   ]
  },
  {
   "cell_type": "code",
   "execution_count": 31,
   "id": "63674544",
   "metadata": {},
   "outputs": [
    {
     "data": {
      "image/png": "[encoded data removed]",
      "text/plain": [
       "<Figure size 640x480 with 1 Axes>"
      ]
     },
     "metadata": {},
     "output_type": "display_data"
    }
   ],
   "source": [
    "#=================================================-\n",
    "#### Slide 21: Visualize training/validation accuracy for each epoch  ####\n",
    "\n",
    "# Plot training & validation accuracy values\n",
    "plt.plot(model_res.history['accuracy'])    #<- accuracy scores\n",
    "plt.plot(model_res.history['val_accuracy'])#<- get val accuracy scores from dictionary\n",
    "plt.title('Model accuracy')\n",
    "plt.ylabel('Accuracy')\n",
    "plt.xlabel('Epoch')\n",
    "plt.legend(['Train', 'Val'], loc='upper left')\n",
    "plt.show()"
   ]
  },
  {
   "cell_type": "code",
   "execution_count": 32,
   "id": "cabe4441",
   "metadata": {},
   "outputs": [
    {
     "data": {
      "image/png": "[encoded data removed]",
      "text/plain": [
       "<Figure size 640x480 with 1 Axes>"
      ]
     },
     "metadata": {},
     "output_type": "display_data"
    }
   ],
   "source": [
    "#=================================================-\n",
    "#### Slide 22: Visualize training/validation loss for each epoch  ####\n",
    "\n",
    "# Plot training & validation loss values\n",
    "plt.plot(model_res.history['loss'])\n",
    "plt.plot(model_res.history['val_loss'])\n",
    "plt.title('Model loss')\n",
    "plt.ylabel('Loss')\n",
    "plt.xlabel('Epoch')\n",
    "plt.legend(['Train', 'Val'], loc='upper left')\n",
    "plt.show()"
   ]
  },
  {
   "cell_type": "code",
   "execution_count": 33,
   "id": "c6e223ee",
   "metadata": {},
   "outputs": [
    {
     "name": "stdout",
     "output_type": "stream",
     "text": [
      "282/282 [==============================] - 0s 1ms/step - loss: 0.4402 - accuracy: 0.8179\n",
      "Loss:  0.440, Accuracy:  0.818\n",
      "[[0]\n",
      " [0]\n",
      " [0]\n",
      " ...\n",
      " [0]\n",
      " [0]\n",
      " [0]]\n"
     ]
    }
   ],
   "source": [
    "#=================================================-\n",
    "#### Slide 23: Evaluate loss, accuracy on test data and predict  ####\n",
    "\n",
    "loss, accuracy = model.evaluate(x = X_test_scaled, y = y_test)\n",
    "print(\"Loss: {0:6.3f}, Accuracy: {1:6.3f}\".format(loss, accuracy))\n",
    "y_pred_prob = model.predict(X_test_scaled)\n",
    "y_pred = (model.predict(X_test_scaled) > 0.5).astype(\"int32\")\n",
    "print(y_pred)"
   ]
  },
  {
   "cell_type": "code",
   "execution_count": null,
   "id": "c78c4aa6",
   "metadata": {},
   "outputs": [],
   "source": [
    "#=================================================-\n",
    "#### Slide 25: Exercise  ####\n",
    "\n",
    "\n",
    "\n",
    "\n",
    "#######################################################\n",
    "####  CONGRATULATIONS ON COMPLETING THIS MODULE!   ####\n",
    "#######################################################\n"
   ]
  }
 ],
 "metadata": {
  "kernelspec": {
   "display_name": "Python 3 (ipykernel)",
   "language": "python",
   "name": "python3"
  },
  "language": "python",
  "language_info": {
   "codemirror_mode": {
    "name": "ipython",
    "version": 3
   },
   "file_extension": ".py",
   "mimetype": "text/x-python",
   "name": "python",
   "nbconvert_exporter": "python",
   "pygments_lexer": "ipython3",
   "version": "3.9.13"
  }
 },
 "nbformat": 4,
 "nbformat_minor": 5
}
